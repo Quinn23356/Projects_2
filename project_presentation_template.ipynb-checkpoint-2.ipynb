{
 "cells": [
  {
   "cell_type": "markdown",
   "id": "cc79e45d-8b2e-4b17-b8ae-370987169634",
   "metadata": {
    "editable": true,
    "slideshow": {
     "slide_type": ""
    },
    "tags": []
   },
   "source": [
    "# DS 101 Project 2 - Mapping Emotions in Python, The American Civil War "
   ]
  },
  {
   "cell_type": "markdown",
   "id": "ef1a09ac-b9d4-4335-bbb0-cf7c8c900114",
   "metadata": {
    "editable": true,
    "slideshow": {
     "slide_type": ""
    },
    "tags": []
   },
   "source": [
    "#### Group Members\n",
    "Joseph Fenuku,\n",
    "Mason Spillman,\n",
    "Colin Lambert,\n",
    "Quinn Sheppard,\n",
    "Claudia Castrillo \n"
   ]
  },
  {
   "cell_type": "markdown",
   "id": "301b435e-292d-4f28-b75f-5ca8bb05cb11",
   "metadata": {
    "editable": true,
    "slideshow": {
     "slide_type": ""
    },
    "tags": []
   },
   "source": [
    "### 1. Introduction"
   ]
  },
  {
   "cell_type": "markdown",
   "id": "ce5184c7-709d-4fe1-9521-a5d9f1718d62",
   "metadata": {
    "editable": true,
    "slideshow": {
     "slide_type": ""
    },
    "tags": []
   },
   "source": [
    "In this project for Digital Studies 101: Foundations in Digital Studies, our group used CSV file data compiled from Project Guttenburg to create an accurate Geoparser map of Virginia showcasing the most prominent emotions felt during the American Civil War. This process consists of us creating a custom corpus dataframe using Gutenberg, and then scraping the data frame for further information. Once a usable data frame was created we then cleaned the data, split it into sentences, cleaned the individual sentences, dropped any unnecessary data, and removed any sentences that lacked toponyms or other relevant information. Once all that was done our group loaded Geoparser and streamlined the emotional score to make the mapped data simpler to understand. Creating a finished Geoparser map showcasing the emotions of the American Civil War. \n"
   ]
  },
  {
   "cell_type": "markdown",
   "id": "9bf81a4e-0a9d-45bf-af08-c08a873275dc",
   "metadata": {
    "editable": true,
    "slideshow": {
     "slide_type": ""
    },
    "tags": []
   },
   "source": [
    "### 2. Hypothesis"
   ]
  },
  {
   "cell_type": "markdown",
   "id": "10fd47a5-bc03-40ec-a245-403c6a270d6b",
   "metadata": {
    "editable": true,
    "slideshow": {
     "slide_type": ""
    },
    "tags": []
   },
   "source": [
    "We believe that the Geoparser map will primarily showcase negative emotions surrounding the war in Virginia. Negative keywords like loss, defeat, and surrender will be most prominent. Virginia will also not be the only place on the local map where emotions will be shown, places like West VA, California, and Pennsylvania will all show up through various associations found in the text. What will be interesting to see is what emotions are present in other countries that were also tied into the American Civil War. Countries like England, France, and Spain all had some form of input during the conflict. Texts that cite their emotions will be few, which may skew the accuracy of emotions in those countries. \n"
   ]
  },
  {
   "cell_type": "markdown",
   "id": "2bb52ad2-ba39-4cab-943f-9c3ea69afeae",
   "metadata": {
    "editable": true,
    "slideshow": {
     "slide_type": ""
    },
    "tags": []
   },
   "source": [
    "### 3. Corpus Description"
   ]
  },
  {
   "cell_type": "markdown",
   "id": "93477763-f8c3-4411-a37b-3e325577ee12",
   "metadata": {
    "editable": true,
    "slideshow": {
     "slide_type": ""
    },
    "tags": []
   },
   "source": [
    "Since we were looking to filter different emotions during the Civil War, we had a vast amount of data to comb through. To start, we had 720 different texts when we had only filtered on literature that contained the word “civil war” in the subject. This was to get the base for our data but that was far too much so we had to further filter down. We also added a filter to only include text that contained “United States”. We didn't want text from other countries so this was essential for us to get accurate data but we still ended up with 630 results which was still too much. We ended our code by further filtering our file by adding the condition to include texts that only revolve around the campaign. We ended up with 70 different texts after running our code all the conditions were met. \n"
   ]
  },
  {
   "cell_type": "code",
   "execution_count": 10,
   "id": "69ffb0d1-ddd8-4042-ac27-1c862f34d7ad",
   "metadata": {
    "editable": true,
    "slideshow": {
     "slide_type": ""
    },
    "tags": []
   },
   "outputs": [],
   "source": [
    "#df_civil = pg_catalog_clean[pg_catalog_clean.subjects.str.contains('Civil War') & pg_catalog_clean.subjects.str.contains('United States') & pg_catalog_clean.subjects.str.contains('Campaigns')]\n"
   ]
  },
  {
   "cell_type": "code",
   "execution_count": 11,
   "id": "b47da515-aedb-47fb-a03e-8f64967fb7e4",
   "metadata": {
    "editable": true,
    "slideshow": {
     "slide_type": ""
    },
    "tags": []
   },
   "outputs": [
    {
     "data": {
      "text/html": [
       "<div>\n",
       "<style scoped>\n",
       "    .dataframe tbody tr th:only-of-type {\n",
       "        vertical-align: middle;\n",
       "    }\n",
       "\n",
       "    .dataframe tbody tr th {\n",
       "        vertical-align: top;\n",
       "    }\n",
       "\n",
       "    .dataframe thead th {\n",
       "        text-align: right;\n",
       "    }\n",
       "</style>\n",
       "<table border=\"1\" class=\"dataframe\">\n",
       "  <thead>\n",
       "    <tr style=\"text-align: right;\">\n",
       "      <th></th>\n",
       "      <th>text_id</th>\n",
       "      <th>type</th>\n",
       "      <th>issued</th>\n",
       "      <th>title</th>\n",
       "      <th>language</th>\n",
       "      <th>subjects</th>\n",
       "      <th>locc</th>\n",
       "      <th>bookshelves</th>\n",
       "      <th>second_author</th>\n",
       "      <th>last_name</th>\n",
       "      <th>first_name</th>\n",
       "      <th>birth</th>\n",
       "      <th>death</th>\n",
       "      <th>text_data</th>\n",
       "    </tr>\n",
       "  </thead>\n",
       "  <tbody>\n",
       "    <tr>\n",
       "      <th>22029</th>\n",
       "      <td>22100</td>\n",
       "      <td>Text</td>\n",
       "      <td>2007-07-19</td>\n",
       "      <td>Slavery and four years of war</td>\n",
       "      <td>en</td>\n",
       "      <td>United States -- History -- Civil War, 1861-18...</td>\n",
       "      <td>E456</td>\n",
       "      <td>US Civil War; Slavery; Browsing: History - Ame...</td>\n",
       "      <td>&lt;NA&gt;</td>\n",
       "      <td>Keifer</td>\n",
       "      <td>Joseph Warren</td>\n",
       "      <td>1836</td>\n",
       "      <td>1932</td>\n",
       "      <td>SLAVERY AND FOUR YEARS OF WAR ***\\r\\n\\r\\n\\r\\n\\...</td>\n",
       "    </tr>\n",
       "    <tr>\n",
       "      <th>45529</th>\n",
       "      <td>45603</td>\n",
       "      <td>Text</td>\n",
       "      <td>2014-05-07</td>\n",
       "      <td>Two Wars: An Autobiography of General Samuel G...</td>\n",
       "      <td>en</td>\n",
       "      <td>United States -- History -- Civil War, 1861-18...</td>\n",
       "      <td>E456</td>\n",
       "      <td>Browsing: Biographies; Browsing: History - Ame...</td>\n",
       "      <td>&lt;NA&gt;</td>\n",
       "      <td>French</td>\n",
       "      <td>Samuel Gibbs</td>\n",
       "      <td>1818</td>\n",
       "      <td>1910</td>\n",
       "      <td>TWO WARS: AN AUTOBIOGRAPHY OF GENERAL SAMUEL G...</td>\n",
       "    </tr>\n",
       "    <tr>\n",
       "      <th>45362</th>\n",
       "      <td>45436</td>\n",
       "      <td>Text</td>\n",
       "      <td>2014-04-18</td>\n",
       "      <td>Mosby's War Reminiscences; Stuart's Cavalry Ca...</td>\n",
       "      <td>en</td>\n",
       "      <td>United States -- History -- Civil War, 1861-18...</td>\n",
       "      <td>E456</td>\n",
       "      <td>Browsing: History - American; Browsing: Histor...</td>\n",
       "      <td>&lt;NA&gt;</td>\n",
       "      <td>Mosby</td>\n",
       "      <td>John Singleton</td>\n",
       "      <td>1833</td>\n",
       "      <td>1916</td>\n",
       "      <td>***</td>\n",
       "    </tr>\n",
       "    <tr>\n",
       "      <th>2583</th>\n",
       "      <td>2616</td>\n",
       "      <td>Text</td>\n",
       "      <td>2004-06-01</td>\n",
       "      <td>Memoirs of General William T. Sherman — Volume 1</td>\n",
       "      <td>en</td>\n",
       "      <td>Generals -- United States -- Biography; United...</td>\n",
       "      <td>E456</td>\n",
       "      <td>US Civil War; Browsing: Biographies; Browsing:...</td>\n",
       "      <td>&lt;NA&gt;</td>\n",
       "      <td>Sherman</td>\n",
       "      <td>William T. (William Tecumseh)</td>\n",
       "      <td>1820</td>\n",
       "      <td>1891</td>\n",
       "      <td>MEMOIRS OF GENERAL WILLIAM T. SHERMAN — VOLUME...</td>\n",
       "    </tr>\n",
       "    <tr>\n",
       "      <th>66171</th>\n",
       "      <td>66250</td>\n",
       "      <td>Text</td>\n",
       "      <td>2021-09-08</td>\n",
       "      <td>An account of the battle of Wilson's Creek, or...</td>\n",
       "      <td>en</td>\n",
       "      <td>United States -- History -- Civil War, 1861-18...</td>\n",
       "      <td>E456</td>\n",
       "      <td>Browsing: History - American; Browsing: Histor...</td>\n",
       "      <td>Adams, Thomas W.</td>\n",
       "      <td>Holcombe</td>\n",
       "      <td>R. I. (Return Ira)</td>\n",
       "      <td>1845</td>\n",
       "      <td>1916</td>\n",
       "      <td>AN ACCOUNT OF THE BATTLE OF WILSON'S CREEK, OR...</td>\n",
       "    </tr>\n",
       "  </tbody>\n",
       "</table>\n",
       "</div>"
      ],
      "text/plain": [
       "       text_id  type      issued  \\\n",
       "22029    22100  Text  2007-07-19   \n",
       "45529    45603  Text  2014-05-07   \n",
       "45362    45436  Text  2014-04-18   \n",
       "2583      2616  Text  2004-06-01   \n",
       "66171    66250  Text  2021-09-08   \n",
       "\n",
       "                                                   title language  \\\n",
       "22029                      Slavery and four years of war       en   \n",
       "45529  Two Wars: An Autobiography of General Samuel G...       en   \n",
       "45362  Mosby's War Reminiscences; Stuart's Cavalry Ca...       en   \n",
       "2583    Memoirs of General William T. Sherman — Volume 1       en   \n",
       "66171  An account of the battle of Wilson's Creek, or...       en   \n",
       "\n",
       "                                                subjects  locc  \\\n",
       "22029  United States -- History -- Civil War, 1861-18...  E456   \n",
       "45529  United States -- History -- Civil War, 1861-18...  E456   \n",
       "45362  United States -- History -- Civil War, 1861-18...  E456   \n",
       "2583   Generals -- United States -- Biography; United...  E456   \n",
       "66171  United States -- History -- Civil War, 1861-18...  E456   \n",
       "\n",
       "                                             bookshelves     second_author  \\\n",
       "22029  US Civil War; Slavery; Browsing: History - Ame...              <NA>   \n",
       "45529  Browsing: Biographies; Browsing: History - Ame...              <NA>   \n",
       "45362  Browsing: History - American; Browsing: Histor...              <NA>   \n",
       "2583   US Civil War; Browsing: Biographies; Browsing:...              <NA>   \n",
       "66171  Browsing: History - American; Browsing: Histor...  Adams, Thomas W.   \n",
       "\n",
       "      last_name                     first_name  birth  death  \\\n",
       "22029    Keifer                  Joseph Warren   1836   1932   \n",
       "45529    French                   Samuel Gibbs   1818   1910   \n",
       "45362     Mosby                 John Singleton   1833   1916   \n",
       "2583    Sherman  William T. (William Tecumseh)   1820   1891   \n",
       "66171  Holcombe             R. I. (Return Ira)   1845   1916   \n",
       "\n",
       "                                               text_data  \n",
       "22029  SLAVERY AND FOUR YEARS OF WAR ***\\r\\n\\r\\n\\r\\n\\...  \n",
       "45529  TWO WARS: AN AUTOBIOGRAPHY OF GENERAL SAMUEL G...  \n",
       "45362                                                ***  \n",
       "2583   MEMOIRS OF GENERAL WILLIAM T. SHERMAN — VOLUME...  \n",
       "66171  AN ACCOUNT OF THE BATTLE OF WILSON'S CREEK, OR...  "
      ]
     },
     "execution_count": 11,
     "metadata": {},
     "output_type": "execute_result"
    }
   ],
   "source": [
    "#Import the results and show a sample\n",
    "import pandas as pd\n",
    "df_civil_TEXTS = pd.read_pickle('df_civil_TEXTS.pickle')\n",
    "df_civil_TEXTS.sample(5)"
   ]
  },
  {
   "cell_type": "markdown",
   "id": "46d94131-74ab-4513-8fb7-d4513c2cea53",
   "metadata": {
    "editable": true,
    "slideshow": {
     "slide_type": ""
    },
    "tags": []
   },
   "source": [
    "### 4. Geoparsing Results"
   ]
  },
  {
   "cell_type": "markdown",
   "id": "01502f0c-da94-4f1d-8b05-c5debac06bbd",
   "metadata": {
    "editable": true,
    "slideshow": {
     "slide_type": ""
    },
    "tags": []
   },
   "source": [
    "The geoparsing process was relatively straightforward compared to the other steps. The pickle file containing the list of locations was given to the tool, in which each location was parsed from the sentences and surrounding context. This list was sourced from the 70 different texts previously referred to, all matching the previous filters applied to ensure the data aligned with the American Civil War as well as the correct time frame. We were also wary of false positives that may have been collected from the tool, and tried our best to filter out potential inconsistencies such as names being confused with locations.\n",
    "\n",
    "Some false positives can be seen in the geoparser such as Washington state being confused with Washington D.C.. This is due to the tool not being able to consider the context or time period in the surrounding sentence, and strictly matching the literal name given with the location. To help remove false positives like these in future, we could apply filters that check the surrounding context given, although this may be very time consuming. A shorter yet imperfect  way to do this would be to filter the more common mistakes such as Washington not yet being a state and for similar locations. This method can also be refined by referencing the locations given based on a specific location list given to the tool.\n"
   ]
  },
  {
   "cell_type": "code",
   "execution_count": 14,
   "id": "bef77acc-38c2-4772-881a-3b904e96ad09",
   "metadata": {
    "editable": true,
    "slideshow": {
     "slide_type": ""
    },
    "tags": []
   },
   "outputs": [
    {
     "data": {
      "text/html": [
       "<div>\n",
       "<style scoped>\n",
       "    .dataframe tbody tr th:only-of-type {\n",
       "        vertical-align: middle;\n",
       "    }\n",
       "\n",
       "    .dataframe tbody tr th {\n",
       "        vertical-align: top;\n",
       "    }\n",
       "\n",
       "    .dataframe thead th {\n",
       "        text-align: right;\n",
       "    }\n",
       "</style>\n",
       "<table border=\"1\" class=\"dataframe\">\n",
       "  <thead>\n",
       "    <tr style=\"text-align: right;\">\n",
       "      <th></th>\n",
       "      <th>cleaned_sentences</th>\n",
       "      <th>text_id</th>\n",
       "      <th>title</th>\n",
       "      <th>subjects</th>\n",
       "      <th>last_name</th>\n",
       "      <th>first_name</th>\n",
       "      <th>birth</th>\n",
       "      <th>death</th>\n",
       "      <th>sentences</th>\n",
       "      <th>toponyms</th>\n",
       "      <th>nltk_toponym_count</th>\n",
       "      <th>place</th>\n",
       "      <th>latitude</th>\n",
       "      <th>longitude</th>\n",
       "      <th>feature_name</th>\n",
       "    </tr>\n",
       "  </thead>\n",
       "  <tbody>\n",
       "    <tr>\n",
       "      <th>27957</th>\n",
       "      <td>The next morning at the dawn of day fugitives ...</td>\n",
       "      <td>45603</td>\n",
       "      <td>Two Wars: An Autobiography of General Samuel G...</td>\n",
       "      <td>United States -- History -- Civil War, 1861-18...</td>\n",
       "      <td>French</td>\n",
       "      <td>Samuel Gibbs</td>\n",
       "      <td>1818</td>\n",
       "      <td>1910</td>\n",
       "      <td>The next morning at the dawn of day fugitives ...</td>\n",
       "      <td>[Columbus]</td>\n",
       "      <td>544</td>\n",
       "      <td>[Columbus]</td>\n",
       "      <td>[39.96118]</td>\n",
       "      <td>[-82.99879]</td>\n",
       "      <td>[seat of a first-order administrative division]</td>\n",
       "    </tr>\n",
       "    <tr>\n",
       "      <th>28668</th>\n",
       "      <td>The shrewd  and aggressive officers of the Hud...</td>\n",
       "      <td>43590</td>\n",
       "      <td>The Life of Isaac Ingalls Stevens, Volume 2 (o...</td>\n",
       "      <td>United States -- History -- Civil War, 1861-18...</td>\n",
       "      <td>Stevens</td>\n",
       "      <td>Hazard</td>\n",
       "      <td>1842</td>\n",
       "      <td>1918</td>\n",
       "      <td>The shrewd\\r\\nand aggressive officers of the H...</td>\n",
       "      <td>[Victoria, San Juan]</td>\n",
       "      <td>28</td>\n",
       "      <td>[Hong Kong, San Juan]</td>\n",
       "      <td>[22.27832, 18.46633]</td>\n",
       "      <td>[114.17469, -66.10572]</td>\n",
       "      <td>[capital of a political entity, capital of a p...</td>\n",
       "    </tr>\n",
       "    <tr>\n",
       "      <th>22056</th>\n",
       "      <td>Penetrated in all directions by watercourses n...</td>\n",
       "      <td>23747</td>\n",
       "      <td>Destruction and Reconstruction: Personal Exper...</td>\n",
       "      <td>United States -- History -- Civil War, 1861-18...</td>\n",
       "      <td>Taylor</td>\n",
       "      <td>Richard</td>\n",
       "      <td>1826</td>\n",
       "      <td>1879</td>\n",
       "      <td>Penetrated in all directions by watercourses n...</td>\n",
       "      <td>[Mississippi]</td>\n",
       "      <td>1182</td>\n",
       "      <td>[Mississippi]</td>\n",
       "      <td>[32.75041]</td>\n",
       "      <td>[-89.75036]</td>\n",
       "      <td>[first-order administrative division]</td>\n",
       "    </tr>\n",
       "    <tr>\n",
       "      <th>9310</th>\n",
       "      <td>Gen. Taylor, with a proper escort, rode  to En...</td>\n",
       "      <td>45603</td>\n",
       "      <td>Two Wars: An Autobiography of General Samuel G...</td>\n",
       "      <td>United States -- History -- Civil War, 1861-18...</td>\n",
       "      <td>French</td>\n",
       "      <td>Samuel Gibbs</td>\n",
       "      <td>1818</td>\n",
       "      <td>1910</td>\n",
       "      <td>Gen. Taylor, with a proper escort, rode\\r\\nto ...</td>\n",
       "      <td>[Santa Anna]</td>\n",
       "      <td>58</td>\n",
       "      <td>[La Encantada, Santa Anna]</td>\n",
       "      <td>[17.68333, -25.45027]</td>\n",
       "      <td>[-94.81667, -65.60471]</td>\n",
       "      <td>[populated place, populated place]</td>\n",
       "    </tr>\n",
       "    <tr>\n",
       "      <th>10140</th>\n",
       "      <td>Getty met a strong force along Meadow Brook, n...</td>\n",
       "      <td>22100</td>\n",
       "      <td>Slavery and four years of war</td>\n",
       "      <td>United States -- History -- Civil War, 1861-18...</td>\n",
       "      <td>Keifer</td>\n",
       "      <td>Joseph Warren</td>\n",
       "      <td>1836</td>\n",
       "      <td>1932</td>\n",
       "      <td>Getty met a strong force along Meadow Brook, n...</td>\n",
       "      <td>[Middletown]</td>\n",
       "      <td>62</td>\n",
       "      <td>[Meadow Brook, Middletown]</td>\n",
       "      <td>[41.9376, 40.26174]</td>\n",
       "      <td>[-71.16755, -79.6206]</td>\n",
       "      <td>[populated place, populated place]</td>\n",
       "    </tr>\n",
       "  </tbody>\n",
       "</table>\n",
       "</div>"
      ],
      "text/plain": [
       "                                       cleaned_sentences  text_id  \\\n",
       "27957  The next morning at the dawn of day fugitives ...    45603   \n",
       "28668  The shrewd  and aggressive officers of the Hud...    43590   \n",
       "22056  Penetrated in all directions by watercourses n...    23747   \n",
       "9310   Gen. Taylor, with a proper escort, rode  to En...    45603   \n",
       "10140  Getty met a strong force along Meadow Brook, n...    22100   \n",
       "\n",
       "                                                   title  \\\n",
       "27957  Two Wars: An Autobiography of General Samuel G...   \n",
       "28668  The Life of Isaac Ingalls Stevens, Volume 2 (o...   \n",
       "22056  Destruction and Reconstruction: Personal Exper...   \n",
       "9310   Two Wars: An Autobiography of General Samuel G...   \n",
       "10140                      Slavery and four years of war   \n",
       "\n",
       "                                                subjects last_name  \\\n",
       "27957  United States -- History -- Civil War, 1861-18...    French   \n",
       "28668  United States -- History -- Civil War, 1861-18...   Stevens   \n",
       "22056  United States -- History -- Civil War, 1861-18...    Taylor   \n",
       "9310   United States -- History -- Civil War, 1861-18...    French   \n",
       "10140  United States -- History -- Civil War, 1861-18...    Keifer   \n",
       "\n",
       "          first_name  birth  death  \\\n",
       "27957   Samuel Gibbs   1818   1910   \n",
       "28668         Hazard   1842   1918   \n",
       "22056        Richard   1826   1879   \n",
       "9310    Samuel Gibbs   1818   1910   \n",
       "10140  Joseph Warren   1836   1932   \n",
       "\n",
       "                                               sentences  \\\n",
       "27957  The next morning at the dawn of day fugitives ...   \n",
       "28668  The shrewd\\r\\nand aggressive officers of the H...   \n",
       "22056  Penetrated in all directions by watercourses n...   \n",
       "9310   Gen. Taylor, with a proper escort, rode\\r\\nto ...   \n",
       "10140  Getty met a strong force along Meadow Brook, n...   \n",
       "\n",
       "                   toponyms  nltk_toponym_count                       place  \\\n",
       "27957            [Columbus]                 544                  [Columbus]   \n",
       "28668  [Victoria, San Juan]                  28       [Hong Kong, San Juan]   \n",
       "22056         [Mississippi]                1182               [Mississippi]   \n",
       "9310           [Santa Anna]                  58  [La Encantada, Santa Anna]   \n",
       "10140          [Middletown]                  62  [Meadow Brook, Middletown]   \n",
       "\n",
       "                    latitude               longitude  \\\n",
       "27957             [39.96118]             [-82.99879]   \n",
       "28668   [22.27832, 18.46633]  [114.17469, -66.10572]   \n",
       "22056             [32.75041]             [-89.75036]   \n",
       "9310   [17.68333, -25.45027]  [-94.81667, -65.60471]   \n",
       "10140    [41.9376, 40.26174]   [-71.16755, -79.6206]   \n",
       "\n",
       "                                            feature_name  \n",
       "27957    [seat of a first-order administrative division]  \n",
       "28668  [capital of a political entity, capital of a p...  \n",
       "22056              [first-order administrative division]  \n",
       "9310                  [populated place, populated place]  \n",
       "10140                 [populated place, populated place]  "
      ]
     },
     "execution_count": 14,
     "metadata": {},
     "output_type": "execute_result"
    }
   ],
   "source": [
    "#Import the results and show a sample\n",
    "df_civil_PLACES = pd.read_pickle('df_civil_PLACES.pickle')\n",
    "df_civil_PLACES.sample(5)"
   ]
  },
  {
   "cell_type": "code",
   "execution_count": 15,
   "id": "549806c7-5e37-40ed-87f5-9ca6e6a34ba2",
   "metadata": {},
   "outputs": [
    {
     "name": "stderr",
     "output_type": "stream",
     "text": [
      "Matplotlib is building the font cache; this may take a moment.\n"
     ]
    },
    {
     "ename": "FileNotFoundError",
     "evalue": "[Errno 2] No such file or directory: 'newplot-europe.png'",
     "output_type": "error",
     "traceback": [
      "\u001b[0;31m---------------------------------------------------------------------------\u001b[0m",
      "\u001b[0;31mFileNotFoundError\u001b[0m                         Traceback (most recent call last)",
      "Cell \u001b[0;32mIn[15], line 6\u001b[0m\n\u001b[1;32m      2\u001b[0m \u001b[38;5;28;01mimport\u001b[39;00m \u001b[38;5;21;01mmatplotlib\u001b[39;00m\u001b[38;5;21;01m.\u001b[39;00m\u001b[38;5;21;01mimage\u001b[39;00m \u001b[38;5;28;01mas\u001b[39;00m \u001b[38;5;21;01mmpimg\u001b[39;00m\n\u001b[1;32m      5\u001b[0m america \u001b[38;5;241m=\u001b[39m mpimg\u001b[38;5;241m.\u001b[39mimread(\u001b[38;5;124m'\u001b[39m\u001b[38;5;124mnewplot-america.png\u001b[39m\u001b[38;5;124m'\u001b[39m)\n\u001b[0;32m----> 6\u001b[0m europe \u001b[38;5;241m=\u001b[39m mpimg\u001b[38;5;241m.\u001b[39mimread(\u001b[38;5;124m'\u001b[39m\u001b[38;5;124mnewplot-europe.png\u001b[39m\u001b[38;5;124m'\u001b[39m)\n\u001b[1;32m      8\u001b[0m plt\u001b[38;5;241m.\u001b[39mimshow(america)\n\u001b[1;32m      9\u001b[0m plt\u001b[38;5;241m.\u001b[39maxis(\u001b[38;5;124m'\u001b[39m\u001b[38;5;124moff\u001b[39m\u001b[38;5;124m'\u001b[39m) \n",
      "File \u001b[0;32m/opt/conda/envs/anaconda-panel-2023.05-py310/lib/python3.11/site-packages/matplotlib/image.py:1563\u001b[0m, in \u001b[0;36mimread\u001b[0;34m(fname, format)\u001b[0m\n\u001b[1;32m   1556\u001b[0m \u001b[38;5;28;01mif\u001b[39;00m \u001b[38;5;28misinstance\u001b[39m(fname, \u001b[38;5;28mstr\u001b[39m) \u001b[38;5;129;01mand\u001b[39;00m \u001b[38;5;28mlen\u001b[39m(parse\u001b[38;5;241m.\u001b[39murlparse(fname)\u001b[38;5;241m.\u001b[39mscheme) \u001b[38;5;241m>\u001b[39m \u001b[38;5;241m1\u001b[39m:\n\u001b[1;32m   1557\u001b[0m     \u001b[38;5;66;03m# Pillow doesn't handle URLs directly.\u001b[39;00m\n\u001b[1;32m   1558\u001b[0m     \u001b[38;5;28;01mraise\u001b[39;00m \u001b[38;5;167;01mValueError\u001b[39;00m(\n\u001b[1;32m   1559\u001b[0m         \u001b[38;5;124m\"\u001b[39m\u001b[38;5;124mPlease open the URL for reading and pass the \u001b[39m\u001b[38;5;124m\"\u001b[39m\n\u001b[1;32m   1560\u001b[0m         \u001b[38;5;124m\"\u001b[39m\u001b[38;5;124mresult to Pillow, e.g. with \u001b[39m\u001b[38;5;124m\"\u001b[39m\n\u001b[1;32m   1561\u001b[0m         \u001b[38;5;124m\"\u001b[39m\u001b[38;5;124m``np.array(PIL.Image.open(urllib.request.urlopen(url)))``.\u001b[39m\u001b[38;5;124m\"\u001b[39m\n\u001b[1;32m   1562\u001b[0m         )\n\u001b[0;32m-> 1563\u001b[0m \u001b[38;5;28;01mwith\u001b[39;00m img_open(fname) \u001b[38;5;28;01mas\u001b[39;00m image:\n\u001b[1;32m   1564\u001b[0m     \u001b[38;5;28;01mreturn\u001b[39;00m (_pil_png_to_float_array(image)\n\u001b[1;32m   1565\u001b[0m             \u001b[38;5;28;01mif\u001b[39;00m \u001b[38;5;28misinstance\u001b[39m(image, PIL\u001b[38;5;241m.\u001b[39mPngImagePlugin\u001b[38;5;241m.\u001b[39mPngImageFile) \u001b[38;5;28;01melse\u001b[39;00m\n\u001b[1;32m   1566\u001b[0m             pil_to_array(image))\n",
      "File \u001b[0;32m/opt/conda/envs/anaconda-panel-2023.05-py310/lib/python3.11/site-packages/PIL/ImageFile.py:105\u001b[0m, in \u001b[0;36mImageFile.__init__\u001b[0;34m(self, fp, filename)\u001b[0m\n\u001b[1;32m    101\u001b[0m \u001b[38;5;28mself\u001b[39m\u001b[38;5;241m.\u001b[39mdecodermaxblock \u001b[38;5;241m=\u001b[39m MAXBLOCK\n\u001b[1;32m    103\u001b[0m \u001b[38;5;28;01mif\u001b[39;00m is_path(fp):\n\u001b[1;32m    104\u001b[0m     \u001b[38;5;66;03m# filename\u001b[39;00m\n\u001b[0;32m--> 105\u001b[0m     \u001b[38;5;28mself\u001b[39m\u001b[38;5;241m.\u001b[39mfp \u001b[38;5;241m=\u001b[39m \u001b[38;5;28mopen\u001b[39m(fp, \u001b[38;5;124m\"\u001b[39m\u001b[38;5;124mrb\u001b[39m\u001b[38;5;124m\"\u001b[39m)\n\u001b[1;32m    106\u001b[0m     \u001b[38;5;28mself\u001b[39m\u001b[38;5;241m.\u001b[39mfilename \u001b[38;5;241m=\u001b[39m fp\n\u001b[1;32m    107\u001b[0m     \u001b[38;5;28mself\u001b[39m\u001b[38;5;241m.\u001b[39m_exclusive_fp \u001b[38;5;241m=\u001b[39m \u001b[38;5;28;01mTrue\u001b[39;00m\n",
      "\u001b[0;31mFileNotFoundError\u001b[0m: [Errno 2] No such file or directory: 'newplot-europe.png'"
     ]
    }
   ],
   "source": [
    "import matplotlib.pyplot as plt\n",
    "import matplotlib.image as mpimg\n",
    "\n",
    "\n",
    "america = mpimg.imread('newplot-america.png')\n",
    "europe = mpimg.imread('newplot-europe.png')\n",
    "\n",
    "plt.imshow(america)\n",
    "plt.axis('off') \n",
    "plt.show()\n",
    "\n",
    "plt.imshow(europe)\n",
    "plt.axis('off') \n",
    "plt.show()"
   ]
  },
  {
   "cell_type": "markdown",
   "id": "29cfeb55-8b38-49a5-8a08-bd6f10bd0a87",
   "metadata": {
    "editable": true,
    "slideshow": {
     "slide_type": ""
    },
    "tags": []
   },
   "source": [
    "### 5. Sentiment Analysis Results\n"
   ]
  },
  {
   "cell_type": "markdown",
   "id": "ebdcf7ec-8ca7-41b2-a75f-8be85318f3c3",
   "metadata": {
    "editable": true,
    "slideshow": {
     "slide_type": ""
    },
    "tags": []
   },
   "source": [
    "Looking at the average scores of the positive, neutral, and negative word associations we see that neutral is the largest, which makes sense because since these are campaigns it probably focus on the raw facts of the information rather than opinions about it. We also see that the negative word association is larger when looking at the overall averages and is shown to be negative when combining all three lists. This makes sense because it was a war and wars tend to be sad, unenjoyable affairs, and the South would likely be writing negatively since they lost. While the negative was bigger the positive wasn't too much smaller and this could be because the North would write positively since they won the war, but still average to more negative since the North would still write negatively about the lives lost."
   ]
  },
  {
   "cell_type": "code",
   "execution_count": null,
   "id": "6a8c78ee-36fb-4532-8e2f-6dd1e2e54a4c",
   "metadata": {
    "editable": true,
    "slideshow": {
     "slide_type": ""
    },
    "tags": []
   },
   "outputs": [],
   "source": [
    "#Import the results and show a sample\n",
    "df_civil_SENTIMENTS = pd.read_pickle('df_civil_SENTIMENTS.pickle')\n",
    "df_civil_SENTIMENTS.sample(5)"
   ]
  },
  {
   "cell_type": "code",
   "execution_count": null,
   "id": "dc09e038-d307-45ed-be37-eebfdca95869",
   "metadata": {},
   "outputs": [],
   "source": [
    "emotions = mpimg.imread('emotions.png')\n",
    "avg = mpimg.imread('avg.png')\n",
    "\n",
    "plt.imshow(emotions)\n",
    "plt.axis('off') \n",
    "plt.show()\n",
    "\n",
    "plt.imshow(avg)\n",
    "plt.axis('off') \n",
    "plt.show()"
   ]
  },
  {
   "cell_type": "markdown",
   "id": "812a72fe-74a5-4586-a4f5-bb663a3b4e64",
   "metadata": {
    "editable": true,
    "slideshow": {
     "slide_type": ""
    },
    "tags": []
   },
   "source": [
    "### 6. Mapping"
   ]
  },
  {
   "cell_type": "markdown",
   "id": "1f0265dd-16c9-4511-b4c2-3a6b5175ef48",
   "metadata": {
    "editable": true,
    "slideshow": {
     "slide_type": ""
    },
    "tags": []
   },
   "source": [
    "For the mapping process, the locations with extremely high quantities were removed to make the data more balanced and easier to interpret. Some places had over 1,000 counts, which could make the overall emotional trends harder to see, so filtering them out was necessary. Any locations that didn’t have enough useful data were also excluded in order to focus on the most important areas. The map was then centered and zoomed in to highlight key regions like the U.S. and parts of Europe where the most emotional data was found.\n",
    "\n",
    "The data on the map showed more clearly where people felt strongly (emotionally) about the war, with red areas showing negative emotions tied to loss and defeat, especially in heavily affected states like Virginia. It also includes places like England and France, which were connected to the war in smaller ways but still had some type of impact. The color scheme on the map correlates with different emotions throughout the time of the war. The darker (purple) colors represent neutral feelings, the reddish colors represent negative emotions (like loss or defeat), and blue conveys positive emotions (like victory). This helped display the emotional reactions to the Civil War effectively on the map, both in the U.S. and internationally. So even though the U.S. had the most data, European countries like England and France still appeared due to their diplomatic ties to the war.\n"
   ]
  },
  {
   "cell_type": "code",
   "execution_count": null,
   "id": "4f557135-96ed-4f9c-9ec9-42108f8c63eb",
   "metadata": {
    "editable": true,
    "slideshow": {
     "slide_type": ""
    },
    "tags": []
   },
   "outputs": [],
   "source": [
    "import plotly.express as px\n",
    "#import matplotlib.pyplot as plt\n",
    "\n",
    "# Define a threshold for the minimum count\n",
    "#threshold = 200\n",
    "\n",
    "# Filter the dataframe to include only rows where location_count is above the threshold\n",
    "#df_filtered = df_civil[df_civil['location_count'] >= threshold]\n",
    "\n",
    "# Plot the histogram of the filtered location counts\n",
    "#df_filtered['location_count'].plot.hist(bins=10, alpha=0.7)\n",
    "\n",
    "# Add labels and title for clarity\n",
    "#plt.xlabel('Location Count')\n",
    "#plt.ylabel('Frequency')\n",
    "#plt.title('Histogram of Location Counts (Filtered)')\n",
    "#plt.show()"
   ]
  },
  {
   "cell_type": "markdown",
   "id": "7f640001-9f90-4fe0-b8b9-c0657a64df40",
   "metadata": {
    "editable": true,
    "slideshow": {
     "slide_type": ""
    },
    "tags": []
   },
   "source": [
    "When starting this project I assumed that the public opinion on the American Civil War would be divided at first, with a mainly negative view that would get progressively sadder throughout its duration. I also assumed that the Southern states would become considerably more negative in comparison to the Northern states, considering their defeat. However, to my surprise, there was less negativity and sadness than I had thought. I believe this is because I hadn't thought to take into consideration what types of people made up the demographics of the authors, making the opinion about the war more biased and optimistic in a one-sided sense. It is also possible that these effects aren't as apparent in the time frame we had chose. This leads to our first issue with the data, as there were way too many subjects and sources, and we needed to find a way to filter and narrow down our results. Adjusting for time frame, American civil war, and adding campaigns to our search helped to resolve this issue.\n",
    "\n",
    "\n",
    "Filtering still remains an issue though, as false positives and inaccurate data could still be found within our search. If we had another chance at this project, one thing our team would probably work on is narrowing down our results by avoiding places with similar name. It would have also been beneficial to look at non-war related texts from the era to see how general writing had been impacted."
   ]
  },
  {
   "cell_type": "code",
   "execution_count": null,
   "id": "0d0b83f6-14f3-4e3f-b27f-cbf7531a87b0",
   "metadata": {
    "editable": true,
    "slideshow": {
     "slide_type": ""
    },
    "tags": []
   },
   "outputs": [],
   "source": []
  }
 ],
 "metadata": {
  "kernelspec": {
   "display_name": "anaconda-panel-2023.05-py310",
   "language": "python",
   "name": "conda-env-anaconda-panel-2023.05-py310-py"
  },
  "language_info": {
   "codemirror_mode": {
    "name": "ipython",
    "version": 3
   },
   "file_extension": ".py",
   "mimetype": "text/x-python",
   "name": "python",
   "nbconvert_exporter": "python",
   "pygments_lexer": "ipython3",
   "version": "3.11.5"
  }
 },
 "nbformat": 4,
 "nbformat_minor": 5
}
